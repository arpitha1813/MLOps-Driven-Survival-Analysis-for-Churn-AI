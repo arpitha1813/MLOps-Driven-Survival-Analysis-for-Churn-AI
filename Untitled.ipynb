{
 "cells": [
  {
   "cell_type": "code",
   "execution_count": 1,
   "id": "89446bd5-dd13-4a3f-b8bf-a74c1df8fc61",
   "metadata": {},
   "outputs": [
    {
     "name": "stdout",
     "output_type": "stream",
     "text": [
      "Requirement already satisfied: kaggle in c:\\users\\sindh\\appdata\\local\\programs\\python\\python312\\lib\\site-packages (1.6.17)\n",
      "Requirement already satisfied: six>=1.10 in c:\\users\\sindh\\appdata\\local\\programs\\python\\python312\\lib\\site-packages (from kaggle) (1.16.0)\n",
      "Requirement already satisfied: certifi>=2023.7.22 in c:\\users\\sindh\\appdata\\local\\programs\\python\\python312\\lib\\site-packages (from kaggle) (2024.8.30)\n",
      "Requirement already satisfied: python-dateutil in c:\\users\\sindh\\appdata\\local\\programs\\python\\python312\\lib\\site-packages (from kaggle) (2.9.0.post0)\n",
      "Requirement already satisfied: requests in c:\\users\\sindh\\appdata\\local\\programs\\python\\python312\\lib\\site-packages (from kaggle) (2.32.3)\n",
      "Requirement already satisfied: tqdm in c:\\users\\sindh\\appdata\\local\\programs\\python\\python312\\lib\\site-packages (from kaggle) (4.67.0)\n",
      "Requirement already satisfied: python-slugify in c:\\users\\sindh\\appdata\\local\\programs\\python\\python312\\lib\\site-packages (from kaggle) (8.0.4)\n",
      "Requirement already satisfied: urllib3 in c:\\users\\sindh\\appdata\\local\\programs\\python\\python312\\lib\\site-packages (from kaggle) (2.2.3)\n",
      "Requirement already satisfied: bleach in c:\\users\\sindh\\appdata\\local\\programs\\python\\python312\\lib\\site-packages (from kaggle) (6.2.0)\n",
      "Requirement already satisfied: webencodings in c:\\users\\sindh\\appdata\\local\\programs\\python\\python312\\lib\\site-packages (from bleach->kaggle) (0.5.1)\n",
      "Requirement already satisfied: text-unidecode>=1.3 in c:\\users\\sindh\\appdata\\local\\programs\\python\\python312\\lib\\site-packages (from python-slugify->kaggle) (1.3)\n",
      "Requirement already satisfied: charset-normalizer<4,>=2 in c:\\users\\sindh\\appdata\\local\\programs\\python\\python312\\lib\\site-packages (from requests->kaggle) (3.4.0)\n",
      "Requirement already satisfied: idna<4,>=2.5 in c:\\users\\sindh\\appdata\\local\\programs\\python\\python312\\lib\\site-packages (from requests->kaggle) (3.10)\n",
      "Requirement already satisfied: colorama in c:\\users\\sindh\\appdata\\local\\programs\\python\\python312\\lib\\site-packages (from tqdm->kaggle) (0.4.6)\n",
      "Note: you may need to restart the kernel to use updated packages.\n"
     ]
    },
    {
     "name": "stderr",
     "output_type": "stream",
     "text": [
      "WARNING: Ignoring invalid distribution ~upyterlab (C:\\Users\\sindh\\AppData\\Local\\Programs\\Python\\Python312\\Lib\\site-packages)\n",
      "WARNING: Ignoring invalid distribution ~upyterlab (C:\\Users\\sindh\\AppData\\Local\\Programs\\Python\\Python312\\Lib\\site-packages)\n",
      "WARNING: Ignoring invalid distribution ~upyterlab (C:\\Users\\sindh\\AppData\\Local\\Programs\\Python\\Python312\\Lib\\site-packages)\n"
     ]
    }
   ],
   "source": [
    "pip install kaggle"
   ]
  },
  {
   "cell_type": "code",
   "execution_count": 2,
   "id": "22b2d6cb-1734-48fe-8196-4a505334ef07",
   "metadata": {},
   "outputs": [
    {
     "name": "stdout",
     "output_type": "stream",
     "text": [
      "Dataset URL: https://www.kaggle.com/datasets/yeanzc/telco-customer-churn-ibm-dataset\n",
      "License(s): other\n",
      "Downloading telco-customer-churn-ibm-dataset.zip to C:\\Users\\sindh\\OneDrive\\Desktop\\MTech Sem-2\\Customer Churn Analysis 4\n",
      "\n"
     ]
    },
    {
     "name": "stderr",
     "output_type": "stream",
     "text": [
      "\n",
      "  0%|          | 0.00/1.25M [00:00<?, ?B/s]\n",
      " 80%|#######9  | 1.00M/1.25M [00:01<00:00, 875kB/s]\n",
      "100%|##########| 1.25M/1.25M [00:01<00:00, 1.04MB/s]\n"
     ]
    }
   ],
   "source": [
    "!kaggle datasets download -d yeanzc/telco-customer-churn-ibm-dataset"
   ]
  },
  {
   "cell_type": "code",
   "execution_count": 3,
   "id": "e736b568-6837-4dc0-a9aa-d8d1beb95d0f",
   "metadata": {},
   "outputs": [],
   "source": [
    "import os\n",
    "os.chmod(os.path.expanduser(\"kaggle/kaggle.json\"), 0o600)"
   ]
  },
  {
   "cell_type": "code",
   "execution_count": 4,
   "id": "00b2edea-6fb2-4105-bbf0-c3b20b0549a9",
   "metadata": {},
   "outputs": [
    {
     "data": {
      "text/plain": [
       "['Telco_customer_churn.xlsx']"
      ]
     },
     "execution_count": 4,
     "metadata": {},
     "output_type": "execute_result"
    }
   ],
   "source": [
    "# Step 5: Unzip the dataset\n",
    "import zipfile\n",
    "with zipfile.ZipFile('telco-customer-churn-ibm-dataset.zip', 'r') as zip_ref:\n",
    "    zip_ref.extractall('telco-customer-churn-ibm-dataset')\n",
    "# Step 6: List extracted files to verify\n",
    "import os\n",
    "os.listdir('telco-customer-churn-ibm-dataset')"
   ]
  },
  {
   "cell_type": "code",
   "execution_count": 6,
   "id": "1b6c3aac-32f5-435d-aad4-141ea8ca3cf6",
   "metadata": {},
   "outputs": [
    {
     "name": "stdout",
     "output_type": "stream",
     "text": [
      "   CustomerID  Count        Country       State         City  Zip Code  \\\n",
      "0  3668-QPYBK      1  United States  California  Los Angeles     90003   \n",
      "1  9237-HQITU      1  United States  California  Los Angeles     90005   \n",
      "2  9305-CDSKC      1  United States  California  Los Angeles     90006   \n",
      "3  7892-POOKP      1  United States  California  Los Angeles     90010   \n",
      "4  0280-XJGEX      1  United States  California  Los Angeles     90015   \n",
      "\n",
      "                 Lat Long   Latitude   Longitude  Gender  ...        Contract  \\\n",
      "0  33.964131, -118.272783  33.964131 -118.272783    Male  ...  Month-to-month   \n",
      "1   34.059281, -118.30742  34.059281 -118.307420  Female  ...  Month-to-month   \n",
      "2  34.048013, -118.293953  34.048013 -118.293953  Female  ...  Month-to-month   \n",
      "3  34.062125, -118.315709  34.062125 -118.315709  Female  ...  Month-to-month   \n",
      "4  34.039224, -118.266293  34.039224 -118.266293    Male  ...  Month-to-month   \n",
      "\n",
      "  Paperless Billing             Payment Method  Monthly Charges Total Charges  \\\n",
      "0               Yes               Mailed check            53.85        108.15   \n",
      "1               Yes           Electronic check            70.70        151.65   \n",
      "2               Yes           Electronic check            99.65         820.5   \n",
      "3               Yes           Electronic check           104.80       3046.05   \n",
      "4               Yes  Bank transfer (automatic)           103.70        5036.3   \n",
      "\n",
      "  Churn Label Churn Value Churn Score  CLTV                   Churn Reason  \n",
      "0         Yes           1          86  3239   Competitor made better offer  \n",
      "1         Yes           1          67  2701                          Moved  \n",
      "2         Yes           1          86  5372                          Moved  \n",
      "3         Yes           1          84  5003                          Moved  \n",
      "4         Yes           1          89  5340  Competitor had better devices  \n",
      "\n",
      "[5 rows x 33 columns]\n"
     ]
    }
   ],
   "source": [
    "import pandas as pd\n",
    "telco_data = pd.read_excel('telco-customer-churn-ibm-dataset/Telco_customer_churn.xlsx')\n",
    "print(telco_data.head())"
   ]
  },
  {
   "cell_type": "code",
   "execution_count": 7,
   "id": "6c1916fe-89cf-42ce-bab4-47bbdbce24e1",
   "metadata": {},
   "outputs": [
    {
     "name": "stdout",
     "output_type": "stream",
     "text": [
      "Index(['CustomerID', 'Count', 'Country', 'State', 'City', 'Zip Code',\n",
      "       'Lat Long', 'Latitude', 'Longitude', 'Gender', 'Senior Citizen',\n",
      "       'Partner', 'Dependents', 'Tenure Months', 'Phone Service',\n",
      "       'Multiple Lines', 'Internet Service', 'Online Security',\n",
      "       'Online Backup', 'Device Protection', 'Tech Support', 'Streaming TV',\n",
      "       'Streaming Movies', 'Contract', 'Paperless Billing', 'Payment Method',\n",
      "       'Monthly Charges', 'Total Charges', 'Churn Label', 'Churn Value',\n",
      "       'Churn Score', 'CLTV', 'Churn Reason'],\n",
      "      dtype='object')\n"
     ]
    }
   ],
   "source": [
    "# List all column names\n",
    "print(telco_data.columns)"
   ]
  },
  {
   "cell_type": "code",
   "execution_count": 8,
   "id": "bb10188d-5023-4d36-b995-bfd5e218a5a1",
   "metadata": {},
   "outputs": [],
   "source": [
    "columns_to_drop = [\n",
    "    'State','City','Zip Code','Lat Long','Latitude','Longitude','Phone Service',\n",
    "    'Contract','Payment Method','Churn Label','Monthly Charges', 'Total Charges','Churn Reason','CLTV','CustomerID','Count','Country'\n",
    "]\n",
    "telco_data.drop(columns=columns_to_drop, inplace=True)"
   ]
  },
  {
   "cell_type": "code",
   "execution_count": 9,
   "id": "10d523be-c9fd-4a5d-ad2c-ebf4bc450976",
   "metadata": {},
   "outputs": [
    {
     "name": "stdout",
     "output_type": "stream",
     "text": [
      "<class 'pandas.core.frame.DataFrame'>\n",
      "RangeIndex: 7043 entries, 0 to 7042\n",
      "Data columns (total 16 columns):\n",
      " #   Column             Non-Null Count  Dtype \n",
      "---  ------             --------------  ----- \n",
      " 0   Gender             7043 non-null   object\n",
      " 1   Senior Citizen     7043 non-null   object\n",
      " 2   Partner            7043 non-null   object\n",
      " 3   Dependents         7043 non-null   object\n",
      " 4   Tenure Months      7043 non-null   int64 \n",
      " 5   Multiple Lines     7043 non-null   object\n",
      " 6   Internet Service   7043 non-null   object\n",
      " 7   Online Security    7043 non-null   object\n",
      " 8   Online Backup      7043 non-null   object\n",
      " 9   Device Protection  7043 non-null   object\n",
      " 10  Tech Support       7043 non-null   object\n",
      " 11  Streaming TV       7043 non-null   object\n",
      " 12  Streaming Movies   7043 non-null   object\n",
      " 13  Paperless Billing  7043 non-null   object\n",
      " 14  Churn Value        7043 non-null   int64 \n",
      " 15  Churn Score        7043 non-null   int64 \n",
      "dtypes: int64(3), object(13)\n",
      "memory usage: 880.5+ KB\n",
      "None\n"
     ]
    }
   ],
   "source": [
    "# Get information about the dataset (data types, non-null counts)\n",
    "print(telco_data.info())"
   ]
  },
  {
   "cell_type": "code",
   "execution_count": 10,
   "id": "7d43714e-c01f-487f-8f83-86a1937cadf4",
   "metadata": {},
   "outputs": [
    {
     "name": "stdout",
     "output_type": "stream",
     "text": [
      "Gender               0\n",
      "Senior Citizen       0\n",
      "Partner              0\n",
      "Dependents           0\n",
      "Tenure Months        0\n",
      "Multiple Lines       0\n",
      "Internet Service     0\n",
      "Online Security      0\n",
      "Online Backup        0\n",
      "Device Protection    0\n",
      "Tech Support         0\n",
      "Streaming TV         0\n",
      "Streaming Movies     0\n",
      "Paperless Billing    0\n",
      "Churn Value          0\n",
      "Churn Score          0\n",
      "dtype: int64\n"
     ]
    }
   ],
   "source": [
    "# Check for missing values\n",
    "print(telco_data.isnull().sum())"
   ]
  },
  {
   "cell_type": "code",
   "execution_count": 11,
   "id": "c97a21ce-aa26-4437-99a8-8c77746a0527",
   "metadata": {},
   "outputs": [
    {
     "name": "stdout",
     "output_type": "stream",
     "text": [
      "       Tenure Months  Churn Value  Churn Score\n",
      "count    7043.000000  7043.000000  7043.000000\n",
      "mean       32.371149     0.265370    58.699418\n",
      "std        24.559481     0.441561    21.525131\n",
      "min         0.000000     0.000000     5.000000\n",
      "25%         9.000000     0.000000    40.000000\n",
      "50%        29.000000     0.000000    61.000000\n",
      "75%        55.000000     1.000000    75.000000\n",
      "max        72.000000     1.000000   100.000000\n"
     ]
    }
   ],
   "source": [
    "# Get basic statistics for numeric columns\n",
    "print(telco_data.describe())"
   ]
  },
  {
   "cell_type": "code",
   "execution_count": 12,
   "id": "043ff1b3-233c-4106-89bf-48bbf1f934e9",
   "metadata": {},
   "outputs": [
    {
     "name": "stdout",
     "output_type": "stream",
     "text": [
      "Index(['Gender', 'Senior Citizen', 'Partner', 'Dependents', 'Tenure Months',\n",
      "       'Multiple Lines', 'Internet Service', 'Online Security',\n",
      "       'Online Backup', 'Device Protection', 'Tech Support', 'Streaming TV',\n",
      "       'Streaming Movies', 'Paperless Billing', 'Churn Value', 'Churn Score'],\n",
      "      dtype='object')\n"
     ]
    }
   ],
   "source": [
    "# List all column names\n",
    "print(telco_data.columns)"
   ]
  },
  {
   "cell_type": "code",
   "execution_count": 13,
   "id": "24ee00aa-cd0c-47dc-8bf9-773a4d9eb22e",
   "metadata": {},
   "outputs": [],
   "source": [
    "# Remove duplicates (if any)\n",
    "telco_data = telco_data.drop_duplicates()"
   ]
  },
  {
   "cell_type": "code",
   "execution_count": 14,
   "id": "17cb516e-fd8c-437f-adba-4c017a7f5259",
   "metadata": {},
   "outputs": [
    {
     "name": "stdout",
     "output_type": "stream",
     "text": [
      "Rows after outlier removal: 6957\n"
     ]
    }
   ],
   "source": [
    "import pandas as pd\n",
    "from scipy.stats import zscore\n",
    "\n",
    "# Assuming telco_data is your dataframe\n",
    "numerical_cols = ['Tenure Months', 'Churn Score']\n",
    "\n",
    "# Step 1: Calculate Z-scores for the numerical columns and create new columns for each Z-score\n",
    "telco_data['z_score_Tenure'] = zscore(telco_data['Tenure Months'])\n",
    "telco_data['z_score_Churn'] = zscore(telco_data['Churn Score'])\n",
    "\n",
    "# Step 2: Filter out rows where the absolute Z-score is greater than a threshold (e.g., 3)\n",
    "threshold = 3\n",
    "telco_data = telco_data[\n",
    "    (telco_data['z_score_Tenure'].abs() < threshold) & \n",
    "    (telco_data['z_score_Churn'].abs() < threshold)\n",
    "]\n",
    "\n",
    "# Step 3: Drop the Z-Score columns\n",
    "telco_data = telco_data.drop(columns=['z_score_Tenure', 'z_score_Churn'])\n",
    "\n",
    "# Optional: Check how many rows were removed (if any)\n",
    "print(f\"Rows after outlier removal: {len(telco_data)}\")"
   ]
  },
  {
   "cell_type": "code",
   "execution_count": 15,
   "id": "d200903b-350c-48c5-ad5c-d04a74897401",
   "metadata": {},
   "outputs": [
    {
     "data": {
      "text/plain": [
       "['scaler.pkl']"
      ]
     },
     "execution_count": 15,
     "metadata": {},
     "output_type": "execute_result"
    }
   ],
   "source": [
    "from sklearn.preprocessing import StandardScaler\n",
    "\n",
    "# Define the columns that need scaling (exclude categorical or non-numeric columns)\n",
    "columns_to_scale = [ 'Churn Score']  # Add any other numerical columns as needed\n",
    "\n",
    "# Initialize the scaler\n",
    "scaler = StandardScaler()\n",
    "\n",
    "# Apply scaling to the numerical columns\n",
    "telco_data[columns_to_scale] = scaler.fit_transform(telco_data[columns_to_scale])\n",
    "\n",
    "# Optionally, save the scaler to use later (for new data)\n",
    "import joblib\n",
    "joblib.dump(scaler, 'scaler.pkl')\n"
   ]
  },
  {
   "cell_type": "code",
   "execution_count": 16,
   "id": "895f35ae-6a8e-4980-96e6-fe492fcbb8c8",
   "metadata": {},
   "outputs": [
    {
     "name": "stdout",
     "output_type": "stream",
     "text": [
      "   Gender Senior Citizen Partner Dependents  Tenure Months Multiple Lines  \\\n",
      "0    Male             No      No         No              2             No   \n",
      "1  Female             No      No        Yes              2             No   \n",
      "2  Female             No      No        Yes              8            Yes   \n",
      "3  Female             No     Yes        Yes             28            Yes   \n",
      "4    Male             No      No        Yes             49            Yes   \n",
      "5  Female             No     Yes         No             10             No   \n",
      "6    Male            Yes      No         No              1             No   \n",
      "7    Male             No      No         No              1             No   \n",
      "8    Male             No     Yes        Yes             47            Yes   \n",
      "9    Male             No     Yes         No              1             No   \n",
      "\n",
      "  Internet Service Online Security Online Backup Device Protection  \\\n",
      "0              Yes             Yes           Yes                No   \n",
      "1              Yes              No            No                No   \n",
      "2              Yes              No            No               Yes   \n",
      "3              Yes              No            No               Yes   \n",
      "4              Yes              No           Yes               Yes   \n",
      "5              Yes              No            No               Yes   \n",
      "6              Yes              No            No               Yes   \n",
      "7               No              No            No                No   \n",
      "8              Yes              No           Yes                No   \n",
      "9              Yes              No           Yes                No   \n",
      "\n",
      "  Tech Support Streaming TV Streaming Movies Paperless Billing  Churn Value  \\\n",
      "0           No           No               No               Yes            1   \n",
      "1           No           No               No               Yes            1   \n",
      "2           No          Yes              Yes               Yes            1   \n",
      "3          Yes          Yes              Yes               Yes            1   \n",
      "4           No          Yes              Yes               Yes            1   \n",
      "5          Yes           No               No                No            1   \n",
      "6           No           No              Yes               Yes            1   \n",
      "7           No           No               No                No            1   \n",
      "8           No          Yes              Yes               Yes            1   \n",
      "9           No           No               No                No            1   \n",
      "\n",
      "   Churn Score  \n",
      "0     1.270362  \n",
      "1     0.387644  \n",
      "2     1.270362  \n",
      "3     1.177444  \n",
      "4     1.409738  \n",
      "5     0.898691  \n",
      "6     1.920786  \n",
      "7     1.549115  \n",
      "8     0.852233  \n",
      "9     1.781409  \n"
     ]
    }
   ],
   "source": [
    "# View the scaled data\n",
    "print(telco_data.head(10))\n"
   ]
  },
  {
   "cell_type": "code",
   "execution_count": 17,
   "id": "2342264c-248a-422b-b766-12c3a1114f9c",
   "metadata": {},
   "outputs": [
    {
     "name": "stdout",
     "output_type": "stream",
     "text": [
      "Index(['Gender', 'Senior Citizen', 'Partner', 'Dependents', 'Tenure Months',\n",
      "       'Multiple Lines', 'Internet Service', 'Online Security',\n",
      "       'Online Backup', 'Device Protection', 'Tech Support', 'Streaming TV',\n",
      "       'Streaming Movies', 'Paperless Billing', 'Churn Value', 'Churn Score'],\n",
      "      dtype='object')\n"
     ]
    }
   ],
   "source": [
    "# List all column names\n",
    "print(telco_data.columns)"
   ]
  },
  {
   "cell_type": "code",
   "execution_count": 18,
   "id": "a2f7a4d0-aa16-4662-8c77-2426eff36979",
   "metadata": {},
   "outputs": [],
   "source": [
    "# One-hot encode categorical columns with more than two categories\n",
    "categorical_columns = telco_data.select_dtypes(include=['object']).columns\n",
    "telco_data=pd.get_dummies(telco_data, columns=categorical_columns, drop_first=True)"
   ]
  },
  {
   "cell_type": "code",
   "execution_count": 19,
   "id": "b02fb4ae-452f-4102-a405-78312b3ba30c",
   "metadata": {},
   "outputs": [
    {
     "name": "stdout",
     "output_type": "stream",
     "text": [
      "Index(['Tenure Months', 'Churn Value', 'Churn Score', 'Gender_Male',\n",
      "       'Senior Citizen_Yes', 'Partner_Yes', 'Dependents_Yes',\n",
      "       'Multiple Lines_Yes', 'Internet Service_Yes', 'Online Security_Yes',\n",
      "       'Online Backup_Yes', 'Device Protection_Yes', 'Tech Support_Yes',\n",
      "       'Streaming TV_Yes', 'Streaming Movies_Yes', 'Paperless Billing_Yes'],\n",
      "      dtype='object')\n"
     ]
    }
   ],
   "source": [
    "# List all column names\n",
    "print(telco_data.columns)"
   ]
  },
  {
   "cell_type": "code",
   "execution_count": 20,
   "id": "bf8d40be-eaa6-4288-a2c3-b64b0d8a208f",
   "metadata": {},
   "outputs": [
    {
     "name": "stdout",
     "output_type": "stream",
     "text": [
      "0\n"
     ]
    }
   ],
   "source": [
    "print(telco_data['Churn Value'].isna().sum())"
   ]
  },
  {
   "cell_type": "code",
   "execution_count": 21,
   "id": "5cade431-6c5a-4806-8977-1ed04dbd4906",
   "metadata": {},
   "outputs": [],
   "source": [
    "from sklearn.model_selection import GridSearchCV, train_test_split, cross_val_score\n",
    "# Separate features and target\n",
    "X = telco_data.drop(columns=['Churn Value'])\n",
    "y = telco_data['Churn Value']\n",
    "X_train, X_test, y_train, y_test = train_test_split(X, y, test_size=0.2, random_state=42, stratify=y)"
   ]
  },
  {
   "cell_type": "code",
   "execution_count": 23,
   "id": "9f4ee19e-2a13-4375-abdd-b920dddbdd5e",
   "metadata": {},
   "outputs": [
    {
     "data": {
      "text/plain": [
       "['pca_model.pkl']"
      ]
     },
     "execution_count": 23,
     "metadata": {},
     "output_type": "execute_result"
    }
   ],
   "source": [
    "from sklearn.decomposition import PCA\n",
    "pca = PCA(n_components=2)  # Example: reduce to 2 components, you can change based on the variance\n",
    "X_train = pca.fit_transform(X_train)\n",
    "\n",
    "# Step 5: Transform the test data using the same PCA transformation\n",
    "X_test = pca.transform(X_test)\n",
    "\n",
    "\n",
    "\n",
    "# To save the PCA model for later use (e.g., applying it to new data):\n",
    "import joblib\n",
    "joblib.dump(pca, 'pca_model.pkl')\n"
   ]
  },
  {
   "cell_type": "code",
   "execution_count": 24,
   "id": "b4c647e0-3a86-4c1f-b23d-8fdb4e26f187",
   "metadata": {},
   "outputs": [],
   "source": [
    "from sklearn.ensemble import VotingClassifier, RandomForestClassifier\n",
    "from sklearn.linear_model import LogisticRegression\n",
    "from xgboost import XGBClassifier\n",
    "logistic = LogisticRegression(solver='liblinear', random_state=42)\n",
    "random_forest = RandomForestClassifier(random_state=42)\n",
    "xgboost = XGBClassifier(learning_rate=0.1,\n",
    "    n_estimators=100,\n",
    "    max_depth=3,)"
   ]
  },
  {
   "cell_type": "code",
   "execution_count": 25,
   "id": "17ee3ea2-084f-4fc6-9d70-43e0c7681e90",
   "metadata": {},
   "outputs": [],
   "source": [
    "# Voting Classifier\n",
    "ensemble = VotingClassifier(estimators=[\n",
    "    ('lr', logistic), ('rf', random_forest), ('xgb', xgboost)\n",
    "], voting='soft')\n"
   ]
  },
  {
   "cell_type": "code",
   "execution_count": 29,
   "id": "f1312ee9-bf03-4307-8cee-063382ed3451",
   "metadata": {},
   "outputs": [
    {
     "name": "stdout",
     "output_type": "stream",
     "text": [
      "Number of NaN values in x_train: 0\n"
     ]
    }
   ],
   "source": [
    "import numpy as np\n",
    "nan_count = np.isnan(X_train).sum()\n",
    "print(\"Number of NaN values in x_train:\", nan_count)"
   ]
  },
  {
   "cell_type": "code",
   "execution_count": 30,
   "id": "8ec1b779-9e86-435b-8fb6-d447d2bcc5b3",
   "metadata": {},
   "outputs": [
    {
     "data": {
      "text/html": [
       "<style>#sk-container-id-1 {\n",
       "  /* Definition of color scheme common for light and dark mode */\n",
       "  --sklearn-color-text: black;\n",
       "  --sklearn-color-line: gray;\n",
       "  /* Definition of color scheme for unfitted estimators */\n",
       "  --sklearn-color-unfitted-level-0: #fff5e6;\n",
       "  --sklearn-color-unfitted-level-1: #f6e4d2;\n",
       "  --sklearn-color-unfitted-level-2: #ffe0b3;\n",
       "  --sklearn-color-unfitted-level-3: chocolate;\n",
       "  /* Definition of color scheme for fitted estimators */\n",
       "  --sklearn-color-fitted-level-0: #f0f8ff;\n",
       "  --sklearn-color-fitted-level-1: #d4ebff;\n",
       "  --sklearn-color-fitted-level-2: #b3dbfd;\n",
       "  --sklearn-color-fitted-level-3: cornflowerblue;\n",
       "\n",
       "  /* Specific color for light theme */\n",
       "  --sklearn-color-text-on-default-background: var(--sg-text-color, var(--theme-code-foreground, var(--jp-content-font-color1, black)));\n",
       "  --sklearn-color-background: var(--sg-background-color, var(--theme-background, var(--jp-layout-color0, white)));\n",
       "  --sklearn-color-border-box: var(--sg-text-color, var(--theme-code-foreground, var(--jp-content-font-color1, black)));\n",
       "  --sklearn-color-icon: #696969;\n",
       "\n",
       "  @media (prefers-color-scheme: dark) {\n",
       "    /* Redefinition of color scheme for dark theme */\n",
       "    --sklearn-color-text-on-default-background: var(--sg-text-color, var(--theme-code-foreground, var(--jp-content-font-color1, white)));\n",
       "    --sklearn-color-background: var(--sg-background-color, var(--theme-background, var(--jp-layout-color0, #111)));\n",
       "    --sklearn-color-border-box: var(--sg-text-color, var(--theme-code-foreground, var(--jp-content-font-color1, white)));\n",
       "    --sklearn-color-icon: #878787;\n",
       "  }\n",
       "}\n",
       "\n",
       "#sk-container-id-1 {\n",
       "  color: var(--sklearn-color-text);\n",
       "}\n",
       "\n",
       "#sk-container-id-1 pre {\n",
       "  padding: 0;\n",
       "}\n",
       "\n",
       "#sk-container-id-1 input.sk-hidden--visually {\n",
       "  border: 0;\n",
       "  clip: rect(1px 1px 1px 1px);\n",
       "  clip: rect(1px, 1px, 1px, 1px);\n",
       "  height: 1px;\n",
       "  margin: -1px;\n",
       "  overflow: hidden;\n",
       "  padding: 0;\n",
       "  position: absolute;\n",
       "  width: 1px;\n",
       "}\n",
       "\n",
       "#sk-container-id-1 div.sk-dashed-wrapped {\n",
       "  border: 1px dashed var(--sklearn-color-line);\n",
       "  margin: 0 0.4em 0.5em 0.4em;\n",
       "  box-sizing: border-box;\n",
       "  padding-bottom: 0.4em;\n",
       "  background-color: var(--sklearn-color-background);\n",
       "}\n",
       "\n",
       "#sk-container-id-1 div.sk-container {\n",
       "  /* jupyter's `normalize.less` sets `[hidden] { display: none; }`\n",
       "     but bootstrap.min.css set `[hidden] { display: none !important; }`\n",
       "     so we also need the `!important` here to be able to override the\n",
       "     default hidden behavior on the sphinx rendered scikit-learn.org.\n",
       "     See: https://github.com/scikit-learn/scikit-learn/issues/21755 */\n",
       "  display: inline-block !important;\n",
       "  position: relative;\n",
       "}\n",
       "\n",
       "#sk-container-id-1 div.sk-text-repr-fallback {\n",
       "  display: none;\n",
       "}\n",
       "\n",
       "div.sk-parallel-item,\n",
       "div.sk-serial,\n",
       "div.sk-item {\n",
       "  /* draw centered vertical line to link estimators */\n",
       "  background-image: linear-gradient(var(--sklearn-color-text-on-default-background), var(--sklearn-color-text-on-default-background));\n",
       "  background-size: 2px 100%;\n",
       "  background-repeat: no-repeat;\n",
       "  background-position: center center;\n",
       "}\n",
       "\n",
       "/* Parallel-specific style estimator block */\n",
       "\n",
       "#sk-container-id-1 div.sk-parallel-item::after {\n",
       "  content: \"\";\n",
       "  width: 100%;\n",
       "  border-bottom: 2px solid var(--sklearn-color-text-on-default-background);\n",
       "  flex-grow: 1;\n",
       "}\n",
       "\n",
       "#sk-container-id-1 div.sk-parallel {\n",
       "  display: flex;\n",
       "  align-items: stretch;\n",
       "  justify-content: center;\n",
       "  background-color: var(--sklearn-color-background);\n",
       "  position: relative;\n",
       "}\n",
       "\n",
       "#sk-container-id-1 div.sk-parallel-item {\n",
       "  display: flex;\n",
       "  flex-direction: column;\n",
       "}\n",
       "\n",
       "#sk-container-id-1 div.sk-parallel-item:first-child::after {\n",
       "  align-self: flex-end;\n",
       "  width: 50%;\n",
       "}\n",
       "\n",
       "#sk-container-id-1 div.sk-parallel-item:last-child::after {\n",
       "  align-self: flex-start;\n",
       "  width: 50%;\n",
       "}\n",
       "\n",
       "#sk-container-id-1 div.sk-parallel-item:only-child::after {\n",
       "  width: 0;\n",
       "}\n",
       "\n",
       "/* Serial-specific style estimator block */\n",
       "\n",
       "#sk-container-id-1 div.sk-serial {\n",
       "  display: flex;\n",
       "  flex-direction: column;\n",
       "  align-items: center;\n",
       "  background-color: var(--sklearn-color-background);\n",
       "  padding-right: 1em;\n",
       "  padding-left: 1em;\n",
       "}\n",
       "\n",
       "\n",
       "/* Toggleable style: style used for estimator/Pipeline/ColumnTransformer box that is\n",
       "clickable and can be expanded/collapsed.\n",
       "- Pipeline and ColumnTransformer use this feature and define the default style\n",
       "- Estimators will overwrite some part of the style using the `sk-estimator` class\n",
       "*/\n",
       "\n",
       "/* Pipeline and ColumnTransformer style (default) */\n",
       "\n",
       "#sk-container-id-1 div.sk-toggleable {\n",
       "  /* Default theme specific background. It is overwritten whether we have a\n",
       "  specific estimator or a Pipeline/ColumnTransformer */\n",
       "  background-color: var(--sklearn-color-background);\n",
       "}\n",
       "\n",
       "/* Toggleable label */\n",
       "#sk-container-id-1 label.sk-toggleable__label {\n",
       "  cursor: pointer;\n",
       "  display: block;\n",
       "  width: 100%;\n",
       "  margin-bottom: 0;\n",
       "  padding: 0.5em;\n",
       "  box-sizing: border-box;\n",
       "  text-align: center;\n",
       "}\n",
       "\n",
       "#sk-container-id-1 label.sk-toggleable__label-arrow:before {\n",
       "  /* Arrow on the left of the label */\n",
       "  content: \"▸\";\n",
       "  float: left;\n",
       "  margin-right: 0.25em;\n",
       "  color: var(--sklearn-color-icon);\n",
       "}\n",
       "\n",
       "#sk-container-id-1 label.sk-toggleable__label-arrow:hover:before {\n",
       "  color: var(--sklearn-color-text);\n",
       "}\n",
       "\n",
       "/* Toggleable content - dropdown */\n",
       "\n",
       "#sk-container-id-1 div.sk-toggleable__content {\n",
       "  max-height: 0;\n",
       "  max-width: 0;\n",
       "  overflow: hidden;\n",
       "  text-align: left;\n",
       "  /* unfitted */\n",
       "  background-color: var(--sklearn-color-unfitted-level-0);\n",
       "}\n",
       "\n",
       "#sk-container-id-1 div.sk-toggleable__content.fitted {\n",
       "  /* fitted */\n",
       "  background-color: var(--sklearn-color-fitted-level-0);\n",
       "}\n",
       "\n",
       "#sk-container-id-1 div.sk-toggleable__content pre {\n",
       "  margin: 0.2em;\n",
       "  border-radius: 0.25em;\n",
       "  color: var(--sklearn-color-text);\n",
       "  /* unfitted */\n",
       "  background-color: var(--sklearn-color-unfitted-level-0);\n",
       "}\n",
       "\n",
       "#sk-container-id-1 div.sk-toggleable__content.fitted pre {\n",
       "  /* unfitted */\n",
       "  background-color: var(--sklearn-color-fitted-level-0);\n",
       "}\n",
       "\n",
       "#sk-container-id-1 input.sk-toggleable__control:checked~div.sk-toggleable__content {\n",
       "  /* Expand drop-down */\n",
       "  max-height: 200px;\n",
       "  max-width: 100%;\n",
       "  overflow: auto;\n",
       "}\n",
       "\n",
       "#sk-container-id-1 input.sk-toggleable__control:checked~label.sk-toggleable__label-arrow:before {\n",
       "  content: \"▾\";\n",
       "}\n",
       "\n",
       "/* Pipeline/ColumnTransformer-specific style */\n",
       "\n",
       "#sk-container-id-1 div.sk-label input.sk-toggleable__control:checked~label.sk-toggleable__label {\n",
       "  color: var(--sklearn-color-text);\n",
       "  background-color: var(--sklearn-color-unfitted-level-2);\n",
       "}\n",
       "\n",
       "#sk-container-id-1 div.sk-label.fitted input.sk-toggleable__control:checked~label.sk-toggleable__label {\n",
       "  background-color: var(--sklearn-color-fitted-level-2);\n",
       "}\n",
       "\n",
       "/* Estimator-specific style */\n",
       "\n",
       "/* Colorize estimator box */\n",
       "#sk-container-id-1 div.sk-estimator input.sk-toggleable__control:checked~label.sk-toggleable__label {\n",
       "  /* unfitted */\n",
       "  background-color: var(--sklearn-color-unfitted-level-2);\n",
       "}\n",
       "\n",
       "#sk-container-id-1 div.sk-estimator.fitted input.sk-toggleable__control:checked~label.sk-toggleable__label {\n",
       "  /* fitted */\n",
       "  background-color: var(--sklearn-color-fitted-level-2);\n",
       "}\n",
       "\n",
       "#sk-container-id-1 div.sk-label label.sk-toggleable__label,\n",
       "#sk-container-id-1 div.sk-label label {\n",
       "  /* The background is the default theme color */\n",
       "  color: var(--sklearn-color-text-on-default-background);\n",
       "}\n",
       "\n",
       "/* On hover, darken the color of the background */\n",
       "#sk-container-id-1 div.sk-label:hover label.sk-toggleable__label {\n",
       "  color: var(--sklearn-color-text);\n",
       "  background-color: var(--sklearn-color-unfitted-level-2);\n",
       "}\n",
       "\n",
       "/* Label box, darken color on hover, fitted */\n",
       "#sk-container-id-1 div.sk-label.fitted:hover label.sk-toggleable__label.fitted {\n",
       "  color: var(--sklearn-color-text);\n",
       "  background-color: var(--sklearn-color-fitted-level-2);\n",
       "}\n",
       "\n",
       "/* Estimator label */\n",
       "\n",
       "#sk-container-id-1 div.sk-label label {\n",
       "  font-family: monospace;\n",
       "  font-weight: bold;\n",
       "  display: inline-block;\n",
       "  line-height: 1.2em;\n",
       "}\n",
       "\n",
       "#sk-container-id-1 div.sk-label-container {\n",
       "  text-align: center;\n",
       "}\n",
       "\n",
       "/* Estimator-specific */\n",
       "#sk-container-id-1 div.sk-estimator {\n",
       "  font-family: monospace;\n",
       "  border: 1px dotted var(--sklearn-color-border-box);\n",
       "  border-radius: 0.25em;\n",
       "  box-sizing: border-box;\n",
       "  margin-bottom: 0.5em;\n",
       "  /* unfitted */\n",
       "  background-color: var(--sklearn-color-unfitted-level-0);\n",
       "}\n",
       "\n",
       "#sk-container-id-1 div.sk-estimator.fitted {\n",
       "  /* fitted */\n",
       "  background-color: var(--sklearn-color-fitted-level-0);\n",
       "}\n",
       "\n",
       "/* on hover */\n",
       "#sk-container-id-1 div.sk-estimator:hover {\n",
       "  /* unfitted */\n",
       "  background-color: var(--sklearn-color-unfitted-level-2);\n",
       "}\n",
       "\n",
       "#sk-container-id-1 div.sk-estimator.fitted:hover {\n",
       "  /* fitted */\n",
       "  background-color: var(--sklearn-color-fitted-level-2);\n",
       "}\n",
       "\n",
       "/* Specification for estimator info (e.g. \"i\" and \"?\") */\n",
       "\n",
       "/* Common style for \"i\" and \"?\" */\n",
       "\n",
       ".sk-estimator-doc-link,\n",
       "a:link.sk-estimator-doc-link,\n",
       "a:visited.sk-estimator-doc-link {\n",
       "  float: right;\n",
       "  font-size: smaller;\n",
       "  line-height: 1em;\n",
       "  font-family: monospace;\n",
       "  background-color: var(--sklearn-color-background);\n",
       "  border-radius: 1em;\n",
       "  height: 1em;\n",
       "  width: 1em;\n",
       "  text-decoration: none !important;\n",
       "  margin-left: 1ex;\n",
       "  /* unfitted */\n",
       "  border: var(--sklearn-color-unfitted-level-1) 1pt solid;\n",
       "  color: var(--sklearn-color-unfitted-level-1);\n",
       "}\n",
       "\n",
       ".sk-estimator-doc-link.fitted,\n",
       "a:link.sk-estimator-doc-link.fitted,\n",
       "a:visited.sk-estimator-doc-link.fitted {\n",
       "  /* fitted */\n",
       "  border: var(--sklearn-color-fitted-level-1) 1pt solid;\n",
       "  color: var(--sklearn-color-fitted-level-1);\n",
       "}\n",
       "\n",
       "/* On hover */\n",
       "div.sk-estimator:hover .sk-estimator-doc-link:hover,\n",
       ".sk-estimator-doc-link:hover,\n",
       "div.sk-label-container:hover .sk-estimator-doc-link:hover,\n",
       ".sk-estimator-doc-link:hover {\n",
       "  /* unfitted */\n",
       "  background-color: var(--sklearn-color-unfitted-level-3);\n",
       "  color: var(--sklearn-color-background);\n",
       "  text-decoration: none;\n",
       "}\n",
       "\n",
       "div.sk-estimator.fitted:hover .sk-estimator-doc-link.fitted:hover,\n",
       ".sk-estimator-doc-link.fitted:hover,\n",
       "div.sk-label-container:hover .sk-estimator-doc-link.fitted:hover,\n",
       ".sk-estimator-doc-link.fitted:hover {\n",
       "  /* fitted */\n",
       "  background-color: var(--sklearn-color-fitted-level-3);\n",
       "  color: var(--sklearn-color-background);\n",
       "  text-decoration: none;\n",
       "}\n",
       "\n",
       "/* Span, style for the box shown on hovering the info icon */\n",
       ".sk-estimator-doc-link span {\n",
       "  display: none;\n",
       "  z-index: 9999;\n",
       "  position: relative;\n",
       "  font-weight: normal;\n",
       "  right: .2ex;\n",
       "  padding: .5ex;\n",
       "  margin: .5ex;\n",
       "  width: min-content;\n",
       "  min-width: 20ex;\n",
       "  max-width: 50ex;\n",
       "  color: var(--sklearn-color-text);\n",
       "  box-shadow: 2pt 2pt 4pt #999;\n",
       "  /* unfitted */\n",
       "  background: var(--sklearn-color-unfitted-level-0);\n",
       "  border: .5pt solid var(--sklearn-color-unfitted-level-3);\n",
       "}\n",
       "\n",
       ".sk-estimator-doc-link.fitted span {\n",
       "  /* fitted */\n",
       "  background: var(--sklearn-color-fitted-level-0);\n",
       "  border: var(--sklearn-color-fitted-level-3);\n",
       "}\n",
       "\n",
       ".sk-estimator-doc-link:hover span {\n",
       "  display: block;\n",
       "}\n",
       "\n",
       "/* \"?\"-specific style due to the `<a>` HTML tag */\n",
       "\n",
       "#sk-container-id-1 a.estimator_doc_link {\n",
       "  float: right;\n",
       "  font-size: 1rem;\n",
       "  line-height: 1em;\n",
       "  font-family: monospace;\n",
       "  background-color: var(--sklearn-color-background);\n",
       "  border-radius: 1rem;\n",
       "  height: 1rem;\n",
       "  width: 1rem;\n",
       "  text-decoration: none;\n",
       "  /* unfitted */\n",
       "  color: var(--sklearn-color-unfitted-level-1);\n",
       "  border: var(--sklearn-color-unfitted-level-1) 1pt solid;\n",
       "}\n",
       "\n",
       "#sk-container-id-1 a.estimator_doc_link.fitted {\n",
       "  /* fitted */\n",
       "  border: var(--sklearn-color-fitted-level-1) 1pt solid;\n",
       "  color: var(--sklearn-color-fitted-level-1);\n",
       "}\n",
       "\n",
       "/* On hover */\n",
       "#sk-container-id-1 a.estimator_doc_link:hover {\n",
       "  /* unfitted */\n",
       "  background-color: var(--sklearn-color-unfitted-level-3);\n",
       "  color: var(--sklearn-color-background);\n",
       "  text-decoration: none;\n",
       "}\n",
       "\n",
       "#sk-container-id-1 a.estimator_doc_link.fitted:hover {\n",
       "  /* fitted */\n",
       "  background-color: var(--sklearn-color-fitted-level-3);\n",
       "}\n",
       "</style><div id=\"sk-container-id-1\" class=\"sk-top-container\"><div class=\"sk-text-repr-fallback\"><pre>GridSearchCV(cv=5,\n",
       "             estimator=VotingClassifier(estimators=[(&#x27;lr&#x27;,\n",
       "                                                     LogisticRegression(random_state=42,\n",
       "                                                                        solver=&#x27;liblinear&#x27;)),\n",
       "                                                    (&#x27;rf&#x27;,\n",
       "                                                     RandomForestClassifier(random_state=42)),\n",
       "                                                    (&#x27;xgb&#x27;,\n",
       "                                                     XGBClassifier(base_score=None,\n",
       "                                                                   booster=None,\n",
       "                                                                   callbacks=None,\n",
       "                                                                   colsample_bylevel=None,\n",
       "                                                                   colsample_bynode=None,\n",
       "                                                                   colsample_bytree=None,\n",
       "                                                                   device=None,\n",
       "                                                                   early_stopping_rounds=None,\n",
       "                                                                   enable_catego...\n",
       "                                                                   min_child_weight=None,\n",
       "                                                                   missing=nan,\n",
       "                                                                   monotone_constraints=None,\n",
       "                                                                   multi_strategy=None,\n",
       "                                                                   n_estimators=100,\n",
       "                                                                   n_jobs=None,\n",
       "                                                                   num_parallel_tree=None,\n",
       "                                                                   random_state=None, ...))],\n",
       "                                        voting=&#x27;soft&#x27;),\n",
       "             n_jobs=-1,\n",
       "             param_grid={&#x27;rf__max_depth&#x27;: [None, 10, 20],\n",
       "                         &#x27;rf__n_estimators&#x27;: [50, 100, 150],\n",
       "                         &#x27;xgb__learning_rate&#x27;: [0.01, 0.1, 0.2],\n",
       "                         &#x27;xgb__max_depth&#x27;: [3, 5, 7],\n",
       "                         &#x27;xgb__n_estimators&#x27;: [50, 100, 150]},\n",
       "             scoring=&#x27;accuracy&#x27;)</pre><b>In a Jupyter environment, please rerun this cell to show the HTML representation or trust the notebook. <br />On GitHub, the HTML representation is unable to render, please try loading this page with nbviewer.org.</b></div><div class=\"sk-container\" hidden><div class=\"sk-item sk-dashed-wrapped\"><div class=\"sk-label-container\"><div class=\"sk-label fitted sk-toggleable\"><input class=\"sk-toggleable__control sk-hidden--visually\" id=\"sk-estimator-id-1\" type=\"checkbox\" ><label for=\"sk-estimator-id-1\" class=\"sk-toggleable__label fitted sk-toggleable__label-arrow fitted\">&nbsp;&nbsp;GridSearchCV<a class=\"sk-estimator-doc-link fitted\" rel=\"noreferrer\" target=\"_blank\" href=\"https://scikit-learn.org/1.5/modules/generated/sklearn.model_selection.GridSearchCV.html\">?<span>Documentation for GridSearchCV</span></a><span class=\"sk-estimator-doc-link fitted\">i<span>Fitted</span></span></label><div class=\"sk-toggleable__content fitted\"><pre>GridSearchCV(cv=5,\n",
       "             estimator=VotingClassifier(estimators=[(&#x27;lr&#x27;,\n",
       "                                                     LogisticRegression(random_state=42,\n",
       "                                                                        solver=&#x27;liblinear&#x27;)),\n",
       "                                                    (&#x27;rf&#x27;,\n",
       "                                                     RandomForestClassifier(random_state=42)),\n",
       "                                                    (&#x27;xgb&#x27;,\n",
       "                                                     XGBClassifier(base_score=None,\n",
       "                                                                   booster=None,\n",
       "                                                                   callbacks=None,\n",
       "                                                                   colsample_bylevel=None,\n",
       "                                                                   colsample_bynode=None,\n",
       "                                                                   colsample_bytree=None,\n",
       "                                                                   device=None,\n",
       "                                                                   early_stopping_rounds=None,\n",
       "                                                                   enable_catego...\n",
       "                                                                   min_child_weight=None,\n",
       "                                                                   missing=nan,\n",
       "                                                                   monotone_constraints=None,\n",
       "                                                                   multi_strategy=None,\n",
       "                                                                   n_estimators=100,\n",
       "                                                                   n_jobs=None,\n",
       "                                                                   num_parallel_tree=None,\n",
       "                                                                   random_state=None, ...))],\n",
       "                                        voting=&#x27;soft&#x27;),\n",
       "             n_jobs=-1,\n",
       "             param_grid={&#x27;rf__max_depth&#x27;: [None, 10, 20],\n",
       "                         &#x27;rf__n_estimators&#x27;: [50, 100, 150],\n",
       "                         &#x27;xgb__learning_rate&#x27;: [0.01, 0.1, 0.2],\n",
       "                         &#x27;xgb__max_depth&#x27;: [3, 5, 7],\n",
       "                         &#x27;xgb__n_estimators&#x27;: [50, 100, 150]},\n",
       "             scoring=&#x27;accuracy&#x27;)</pre></div> </div></div><div class=\"sk-parallel\"><div class=\"sk-parallel-item\"><div class=\"sk-item\"><div class=\"sk-label-container\"><div class=\"sk-label fitted sk-toggleable\"><input class=\"sk-toggleable__control sk-hidden--visually\" id=\"sk-estimator-id-2\" type=\"checkbox\" ><label for=\"sk-estimator-id-2\" class=\"sk-toggleable__label fitted sk-toggleable__label-arrow fitted\">best_estimator_: VotingClassifier</label><div class=\"sk-toggleable__content fitted\"><pre>VotingClassifier(estimators=[(&#x27;lr&#x27;,\n",
       "                              LogisticRegression(random_state=42,\n",
       "                                                 solver=&#x27;liblinear&#x27;)),\n",
       "                             (&#x27;rf&#x27;,\n",
       "                              RandomForestClassifier(max_depth=20,\n",
       "                                                     n_estimators=50,\n",
       "                                                     random_state=42)),\n",
       "                             (&#x27;xgb&#x27;,\n",
       "                              XGBClassifier(base_score=None, booster=None,\n",
       "                                            callbacks=None,\n",
       "                                            colsample_bylevel=None,\n",
       "                                            colsample_bynode=None,\n",
       "                                            colsample_bytree=None, device=None,\n",
       "                                            early_stopping_rounds=None,\n",
       "                                            enable_categ...\n",
       "                                            grow_policy=None,\n",
       "                                            importance_type=None,\n",
       "                                            interaction_constraints=None,\n",
       "                                            learning_rate=0.1, max_bin=None,\n",
       "                                            max_cat_threshold=None,\n",
       "                                            max_cat_to_onehot=None,\n",
       "                                            max_delta_step=None, max_depth=5,\n",
       "                                            max_leaves=None,\n",
       "                                            min_child_weight=None, missing=nan,\n",
       "                                            monotone_constraints=None,\n",
       "                                            multi_strategy=None,\n",
       "                                            n_estimators=100, n_jobs=None,\n",
       "                                            num_parallel_tree=None,\n",
       "                                            random_state=None, ...))],\n",
       "                 voting=&#x27;soft&#x27;)</pre></div> </div></div><div class=\"sk-serial\"><div class=\"sk-item sk-dashed-wrapped\"><div class=\"sk-parallel\"><div class=\"sk-parallel-item\"><div class=\"sk-item\"><div class=\"sk-label-container\"><div class=\"sk-label fitted sk-toggleable\"><label>lr</label></div></div><div class=\"sk-serial\"><div class=\"sk-item\"><div class=\"sk-estimator fitted sk-toggleable\"><input class=\"sk-toggleable__control sk-hidden--visually\" id=\"sk-estimator-id-3\" type=\"checkbox\" ><label for=\"sk-estimator-id-3\" class=\"sk-toggleable__label fitted sk-toggleable__label-arrow fitted\">&nbsp;LogisticRegression<a class=\"sk-estimator-doc-link fitted\" rel=\"noreferrer\" target=\"_blank\" href=\"https://scikit-learn.org/1.5/modules/generated/sklearn.linear_model.LogisticRegression.html\">?<span>Documentation for LogisticRegression</span></a></label><div class=\"sk-toggleable__content fitted\"><pre>LogisticRegression(random_state=42, solver=&#x27;liblinear&#x27;)</pre></div> </div></div></div></div></div><div class=\"sk-parallel-item\"><div class=\"sk-item\"><div class=\"sk-label-container\"><div class=\"sk-label fitted sk-toggleable\"><label>rf</label></div></div><div class=\"sk-serial\"><div class=\"sk-item\"><div class=\"sk-estimator fitted sk-toggleable\"><input class=\"sk-toggleable__control sk-hidden--visually\" id=\"sk-estimator-id-4\" type=\"checkbox\" ><label for=\"sk-estimator-id-4\" class=\"sk-toggleable__label fitted sk-toggleable__label-arrow fitted\">&nbsp;RandomForestClassifier<a class=\"sk-estimator-doc-link fitted\" rel=\"noreferrer\" target=\"_blank\" href=\"https://scikit-learn.org/1.5/modules/generated/sklearn.ensemble.RandomForestClassifier.html\">?<span>Documentation for RandomForestClassifier</span></a></label><div class=\"sk-toggleable__content fitted\"><pre>RandomForestClassifier(max_depth=20, n_estimators=50, random_state=42)</pre></div> </div></div></div></div></div><div class=\"sk-parallel-item\"><div class=\"sk-item\"><div class=\"sk-label-container\"><div class=\"sk-label fitted sk-toggleable\"><label>xgb</label></div></div><div class=\"sk-serial\"><div class=\"sk-item\"><div class=\"sk-estimator fitted sk-toggleable\"><input class=\"sk-toggleable__control sk-hidden--visually\" id=\"sk-estimator-id-5\" type=\"checkbox\" ><label for=\"sk-estimator-id-5\" class=\"sk-toggleable__label fitted sk-toggleable__label-arrow fitted\">XGBClassifier</label><div class=\"sk-toggleable__content fitted\"><pre>XGBClassifier(base_score=None, booster=None, callbacks=None,\n",
       "              colsample_bylevel=None, colsample_bynode=None,\n",
       "              colsample_bytree=None, device=None, early_stopping_rounds=None,\n",
       "              enable_categorical=False, eval_metric=None, feature_types=None,\n",
       "              gamma=None, grow_policy=None, importance_type=None,\n",
       "              interaction_constraints=None, learning_rate=0.1, max_bin=None,\n",
       "              max_cat_threshold=None, max_cat_to_onehot=None,\n",
       "              max_delta_step=None, max_depth=5, max_leaves=None,\n",
       "              min_child_weight=None, missing=nan, monotone_constraints=None,\n",
       "              multi_strategy=None, n_estimators=100, n_jobs=None,\n",
       "              num_parallel_tree=None, random_state=None, ...)</pre></div> </div></div></div></div></div></div></div></div></div></div></div></div></div></div>"
      ],
      "text/plain": [
       "GridSearchCV(cv=5,\n",
       "             estimator=VotingClassifier(estimators=[('lr',\n",
       "                                                     LogisticRegression(random_state=42,\n",
       "                                                                        solver='liblinear')),\n",
       "                                                    ('rf',\n",
       "                                                     RandomForestClassifier(random_state=42)),\n",
       "                                                    ('xgb',\n",
       "                                                     XGBClassifier(base_score=None,\n",
       "                                                                   booster=None,\n",
       "                                                                   callbacks=None,\n",
       "                                                                   colsample_bylevel=None,\n",
       "                                                                   colsample_bynode=None,\n",
       "                                                                   colsample_bytree=None,\n",
       "                                                                   device=None,\n",
       "                                                                   early_stopping_rounds=None,\n",
       "                                                                   enable_catego...\n",
       "                                                                   min_child_weight=None,\n",
       "                                                                   missing=nan,\n",
       "                                                                   monotone_constraints=None,\n",
       "                                                                   multi_strategy=None,\n",
       "                                                                   n_estimators=100,\n",
       "                                                                   n_jobs=None,\n",
       "                                                                   num_parallel_tree=None,\n",
       "                                                                   random_state=None, ...))],\n",
       "                                        voting='soft'),\n",
       "             n_jobs=-1,\n",
       "             param_grid={'rf__max_depth': [None, 10, 20],\n",
       "                         'rf__n_estimators': [50, 100, 150],\n",
       "                         'xgb__learning_rate': [0.01, 0.1, 0.2],\n",
       "                         'xgb__max_depth': [3, 5, 7],\n",
       "                         'xgb__n_estimators': [50, 100, 150]},\n",
       "             scoring='accuracy')"
      ]
     },
     "execution_count": 30,
     "metadata": {},
     "output_type": "execute_result"
    }
   ],
   "source": [
    "param_grid = {\n",
    "    'rf__n_estimators': [50, 100, 150],\n",
    "    'rf__max_depth': [None, 10, 20],\n",
    "    'xgb__learning_rate': [0.01, 0.1, 0.2],\n",
    "    'xgb__n_estimators': [50, 100, 150],\n",
    "    'xgb__max_depth': [3, 5, 7]\n",
    "}\n",
    "\n",
    "grid_search = GridSearchCV(estimator=ensemble, param_grid=param_grid, cv=5, scoring='accuracy', n_jobs=-1)\n",
    "grid_search.fit(X_train, y_train)"
   ]
  },
  {
   "cell_type": "code",
   "execution_count": 31,
   "id": "09622305-6294-4fab-9dc7-610ba6a4d08f",
   "metadata": {},
   "outputs": [
    {
     "name": "stdout",
     "output_type": "stream",
     "text": [
      "Number of NaN values in x_train: 0\n"
     ]
    }
   ],
   "source": [
    "import numpy as np\n",
    "nan_count = np.isnan(X_test).sum()\n",
    "print(\"Number of NaN values in x_train:\", nan_count)"
   ]
  },
  {
   "cell_type": "code",
   "execution_count": 32,
   "id": "f3ee3e67-934e-486a-aa1d-726cd498667f",
   "metadata": {},
   "outputs": [
    {
     "name": "stdout",
     "output_type": "stream",
     "text": [
      "Best Hyperparameters: {'rf__max_depth': 20, 'rf__n_estimators': 50, 'xgb__learning_rate': 0.1, 'xgb__max_depth': 5, 'xgb__n_estimators': 100}\n"
     ]
    }
   ],
   "source": [
    "best_model = grid_search.best_estimator_\n",
    "print(\"Best Hyperparameters:\", grid_search.best_params_)"
   ]
  },
  {
   "cell_type": "code",
   "execution_count": 33,
   "id": "82c6fd2c-db88-438c-9b26-31bb956b671d",
   "metadata": {},
   "outputs": [
    {
     "name": "stdout",
     "output_type": "stream",
     "text": [
      "Cross-Validation Accuracy: 0.9162623539982031\n"
     ]
    }
   ],
   "source": [
    "cv_scores = cross_val_score(best_model, X_train, y_train, cv=5, scoring='accuracy')\n",
    "print(\"Cross-Validation Accuracy:\", cv_scores.mean())"
   ]
  },
  {
   "cell_type": "code",
   "execution_count": 34,
   "id": "34942c98-4d27-4f64-b476-cb332fbce3ba",
   "metadata": {},
   "outputs": [
    {
     "name": "stdout",
     "output_type": "stream",
     "text": [
      "Test Accuracy: 0.9094827586206896\n"
     ]
    }
   ],
   "source": [
    "from sklearn.metrics import accuracy_score, classification_report\n",
    "y_pred = best_model.predict(X_test)\n",
    "print(\"Test Accuracy:\", accuracy_score(y_test, y_pred))"
   ]
  },
  {
   "cell_type": "code",
   "execution_count": 35,
   "id": "0ea65309-c29f-4075-850e-7400128d6b56",
   "metadata": {},
   "outputs": [
    {
     "name": "stdout",
     "output_type": "stream",
     "text": [
      "              precision    recall  f1-score   support\n",
      "\n",
      "           0       0.92      0.96      0.94      1025\n",
      "           1       0.87      0.78      0.82       367\n",
      "\n",
      "    accuracy                           0.91      1392\n",
      "   macro avg       0.89      0.87      0.88      1392\n",
      "weighted avg       0.91      0.91      0.91      1392\n",
      "\n"
     ]
    }
   ],
   "source": [
    "print(classification_report(y_test, y_pred))"
   ]
  },
  {
   "cell_type": "code",
   "execution_count": 40,
   "id": "acb1e4d7-ac3b-47a2-939e-8ed381c572fc",
   "metadata": {},
   "outputs": [
    {
     "name": "stdout",
     "output_type": "stream",
     "text": [
      "[0 0 1 ... 0 0 1]\n"
     ]
    }
   ],
   "source": [
    "print(y_pred)"
   ]
  },
  {
   "cell_type": "code",
   "execution_count": 36,
   "id": "c029af03-47b8-469d-aadd-ffc5bf597c9f",
   "metadata": {},
   "outputs": [
    {
     "data": {
      "text/plain": [
       "['best_ensemble_model.pkl']"
      ]
     },
     "execution_count": 36,
     "metadata": {},
     "output_type": "execute_result"
    }
   ],
   "source": [
    "joblib.dump(best_model, 'best_ensemble_model.pkl')"
   ]
  },
  {
   "cell_type": "code",
   "execution_count": 37,
   "id": "60ee78cb-8cbf-4188-bfaf-a1e31188f153",
   "metadata": {},
   "outputs": [
    {
     "name": "stdout",
     "output_type": "stream",
     "text": [
      "Requirement already satisfied: lifelines in c:\\users\\sindh\\appdata\\local\\programs\\python\\python312\\lib\\site-packages (0.30.0)\n",
      "Requirement already satisfied: numpy>=1.14.0 in c:\\users\\sindh\\appdata\\local\\programs\\python\\python312\\lib\\site-packages (from lifelines) (1.26.4)\n",
      "Requirement already satisfied: scipy>=1.7.0 in c:\\users\\sindh\\appdata\\local\\programs\\python\\python312\\lib\\site-packages (from lifelines) (1.14.1)\n",
      "Requirement already satisfied: pandas>=2.1 in c:\\users\\sindh\\appdata\\local\\programs\\python\\python312\\lib\\site-packages (from lifelines) (2.2.3)\n",
      "Requirement already satisfied: matplotlib>=3.0 in c:\\users\\sindh\\appdata\\local\\programs\\python\\python312\\lib\\site-packages (from lifelines) (3.9.2)\n",
      "Requirement already satisfied: autograd>=1.5 in c:\\users\\sindh\\appdata\\local\\programs\\python\\python312\\lib\\site-packages (from lifelines) (1.7.0)\n",
      "Requirement already satisfied: autograd-gamma>=0.3 in c:\\users\\sindh\\appdata\\local\\programs\\python\\python312\\lib\\site-packages (from lifelines) (0.5.0)\n",
      "Requirement already satisfied: formulaic>=0.2.2 in c:\\users\\sindh\\appdata\\local\\programs\\python\\python312\\lib\\site-packages (from lifelines) (1.1.1)\n",
      "Requirement already satisfied: interface-meta>=1.2.0 in c:\\users\\sindh\\appdata\\local\\programs\\python\\python312\\lib\\site-packages (from formulaic>=0.2.2->lifelines) (1.3.0)\n",
      "Requirement already satisfied: typing-extensions>=4.2.0 in c:\\users\\sindh\\appdata\\local\\programs\\python\\python312\\lib\\site-packages (from formulaic>=0.2.2->lifelines) (4.12.2)\n",
      "Requirement already satisfied: wrapt>=1.0 in c:\\users\\sindh\\appdata\\local\\programs\\python\\python312\\lib\\site-packages (from formulaic>=0.2.2->lifelines) (1.17.0)\n",
      "Requirement already satisfied: contourpy>=1.0.1 in c:\\users\\sindh\\appdata\\local\\programs\\python\\python312\\lib\\site-packages (from matplotlib>=3.0->lifelines) (1.3.1)\n",
      "Requirement already satisfied: cycler>=0.10 in c:\\users\\sindh\\appdata\\local\\programs\\python\\python312\\lib\\site-packages (from matplotlib>=3.0->lifelines) (0.12.1)\n",
      "Requirement already satisfied: fonttools>=4.22.0 in c:\\users\\sindh\\appdata\\local\\programs\\python\\python312\\lib\\site-packages (from matplotlib>=3.0->lifelines) (4.55.0)\n",
      "Requirement already satisfied: kiwisolver>=1.3.1 in c:\\users\\sindh\\appdata\\local\\programs\\python\\python312\\lib\\site-packages (from matplotlib>=3.0->lifelines) (1.4.7)\n",
      "Requirement already satisfied: packaging>=20.0 in c:\\users\\sindh\\appdata\\roaming\\python\\python312\\site-packages (from matplotlib>=3.0->lifelines) (24.1)\n",
      "Requirement already satisfied: pillow>=8 in c:\\users\\sindh\\appdata\\local\\programs\\python\\python312\\lib\\site-packages (from matplotlib>=3.0->lifelines) (11.0.0)\n",
      "Requirement already satisfied: pyparsing>=2.3.1 in c:\\users\\sindh\\appdata\\local\\programs\\python\\python312\\lib\\site-packages (from matplotlib>=3.0->lifelines) (3.2.0)\n",
      "Requirement already satisfied: python-dateutil>=2.7 in c:\\users\\sindh\\appdata\\local\\programs\\python\\python312\\lib\\site-packages (from matplotlib>=3.0->lifelines) (2.9.0.post0)\n",
      "Requirement already satisfied: pytz>=2020.1 in c:\\users\\sindh\\appdata\\local\\programs\\python\\python312\\lib\\site-packages (from pandas>=2.1->lifelines) (2024.2)\n",
      "Requirement already satisfied: tzdata>=2022.7 in c:\\users\\sindh\\appdata\\local\\programs\\python\\python312\\lib\\site-packages (from pandas>=2.1->lifelines) (2024.2)\n",
      "Requirement already satisfied: six>=1.5 in c:\\users\\sindh\\appdata\\local\\programs\\python\\python312\\lib\\site-packages (from python-dateutil>=2.7->matplotlib>=3.0->lifelines) (1.16.0)\n",
      "Note: you may need to restart the kernel to use updated packages.\n"
     ]
    },
    {
     "name": "stderr",
     "output_type": "stream",
     "text": [
      "WARNING: Ignoring invalid distribution ~upyterlab (C:\\Users\\sindh\\AppData\\Local\\Programs\\Python\\Python312\\Lib\\site-packages)\n",
      "WARNING: Ignoring invalid distribution ~upyterlab (C:\\Users\\sindh\\AppData\\Local\\Programs\\Python\\Python312\\Lib\\site-packages)\n",
      "WARNING: Ignoring invalid distribution ~upyterlab (C:\\Users\\sindh\\AppData\\Local\\Programs\\Python\\Python312\\Lib\\site-packages)\n"
     ]
    }
   ],
   "source": [
    "pip install lifelines"
   ]
  },
  {
   "cell_type": "code",
   "execution_count": 39,
   "id": "b229dbaa-30d0-453d-82af-ff569c86e154",
   "metadata": {},
   "outputs": [
    {
     "name": "stdout",
     "output_type": "stream",
     "text": [
      "Tenure Months            0\n",
      "Churn Value              0\n",
      "Churn Score              0\n",
      "Gender_Male              0\n",
      "Senior Citizen_Yes       0\n",
      "Partner_Yes              0\n",
      "Dependents_Yes           0\n",
      "Multiple Lines_Yes       0\n",
      "Internet Service_Yes     0\n",
      "Online Security_Yes      0\n",
      "Online Backup_Yes        0\n",
      "Device Protection_Yes    0\n",
      "Tech Support_Yes         0\n",
      "Streaming TV_Yes         0\n",
      "Streaming Movies_Yes     0\n",
      "Paperless Billing_Yes    0\n",
      "dtype: int64\n"
     ]
    }
   ],
   "source": [
    "print(telco_data.isnull().sum())"
   ]
  },
  {
   "cell_type": "code",
   "execution_count": 42,
   "id": "bbc2bb81-8899-4c50-86c3-5fecb60f8a0b",
   "metadata": {},
   "outputs": [
    {
     "name": "stdout",
     "output_type": "stream",
     "text": [
      "Index(['Tenure Months', 'Churn Value', 'Churn Score', 'Gender_Male',\n",
      "       'Senior Citizen_Yes', 'Partner_Yes', 'Dependents_Yes',\n",
      "       'Multiple Lines_Yes', 'Internet Service_Yes', 'Online Security_Yes',\n",
      "       'Online Backup_Yes', 'Device Protection_Yes', 'Tech Support_Yes',\n",
      "       'Streaming TV_Yes', 'Streaming Movies_Yes', 'Paperless Billing_Yes'],\n",
      "      dtype='object')\n",
      "   Tenure Months  Churn Value  Churn Score  Gender_Male  Senior Citizen_Yes  \\\n",
      "0              2            1     1.270362         True               False   \n",
      "1              2            1     0.387644        False               False   \n",
      "2              8            1     1.270362        False               False   \n",
      "3             28            1     1.177444        False               False   \n",
      "4             49            1     1.409738         True               False   \n",
      "\n",
      "   Partner_Yes  Dependents_Yes  Multiple Lines_Yes  Internet Service_Yes  \\\n",
      "0        False           False               False                  True   \n",
      "1        False            True               False                  True   \n",
      "2        False            True                True                  True   \n",
      "3         True            True                True                  True   \n",
      "4        False            True                True                  True   \n",
      "\n",
      "   Online Security_Yes  Online Backup_Yes  Device Protection_Yes  \\\n",
      "0                 True               True                  False   \n",
      "1                False              False                  False   \n",
      "2                False              False                   True   \n",
      "3                False              False                   True   \n",
      "4                False               True                   True   \n",
      "\n",
      "   Tech Support_Yes  Streaming TV_Yes  Streaming Movies_Yes  \\\n",
      "0             False             False                 False   \n",
      "1             False             False                 False   \n",
      "2             False              True                  True   \n",
      "3              True              True                  True   \n",
      "4             False              True                  True   \n",
      "\n",
      "   Paperless Billing_Yes  \n",
      "0                   True  \n",
      "1                   True  \n",
      "2                   True  \n",
      "3                   True  \n",
      "4                   True  \n",
      "<class 'pandas.core.frame.DataFrame'>\n",
      "Index: 6957 entries, 0 to 7042\n",
      "Data columns (total 16 columns):\n",
      " #   Column                 Non-Null Count  Dtype  \n",
      "---  ------                 --------------  -----  \n",
      " 0   Tenure Months          6957 non-null   int64  \n",
      " 1   Churn Value            6957 non-null   int64  \n",
      " 2   Churn Score            6957 non-null   float64\n",
      " 3   Gender_Male            6957 non-null   bool   \n",
      " 4   Senior Citizen_Yes     6957 non-null   bool   \n",
      " 5   Partner_Yes            6957 non-null   bool   \n",
      " 6   Dependents_Yes         6957 non-null   bool   \n",
      " 7   Multiple Lines_Yes     6957 non-null   bool   \n",
      " 8   Internet Service_Yes   6957 non-null   bool   \n",
      " 9   Online Security_Yes    6957 non-null   bool   \n",
      " 10  Online Backup_Yes      6957 non-null   bool   \n",
      " 11  Device Protection_Yes  6957 non-null   bool   \n",
      " 12  Tech Support_Yes       6957 non-null   bool   \n",
      " 13  Streaming TV_Yes       6957 non-null   bool   \n",
      " 14  Streaming Movies_Yes   6957 non-null   bool   \n",
      " 15  Paperless Billing_Yes  6957 non-null   bool   \n",
      "dtypes: bool(13), float64(1), int64(2)\n",
      "memory usage: 563.8 KB\n",
      "None\n"
     ]
    }
   ],
   "source": [
    "print(telco_data.columns)  # Check column names\n",
    "print(telco_data.head())   # Inspect the first few rows of data\n",
    "print(telco_data.info())   # Ensure no missing values or unexpected data types\n"
   ]
  },
  {
   "cell_type": "code",
   "execution_count": 52,
   "id": "17d0b4e1-10b6-402f-b0d4-86af260df5c6",
   "metadata": {},
   "outputs": [
    {
     "data": {
      "image/png": "[encoded data removed]",
      "text/plain": [
       "<Figure size 640x480 with 1 Axes>"
      ]
     },
     "metadata": {},
     "output_type": "display_data"
    }
   ],
   "source": [
    "import pandas as pd\n",
    "from lifelines import KaplanMeierFitter\n",
    "import matplotlib.pyplot as plt\n",
    "\n",
    "# Assuming 'telco_data' is your dataset\n",
    "# Create a column indicating whether the customer churned (1 = churned, 0 = not churned)\n",
    "telco_data['Churned'] = telco_data['Churn Value'].apply(lambda x: 1 if x == 1 else 0)\n",
    "\n",
    "# 'Tenure Months' is the duration for survival analysis\n",
    "duration_col = 'Tenure Months'\n",
    "event_col = 'Churned'\n",
    "\n",
    "# Kaplan-Meier Estimation\n",
    "kmf = KaplanMeierFitter()\n",
    "kmf.fit(durations=telco_data[duration_col], event_observed=telco_data[event_col])\n",
    "\n",
    "# Plot the survival curve\n",
    "kmf.plot()\n",
    "plt.title('Kaplan-Meier Survival Curve')\n",
    "plt.show()"
   ]
  },
  {
   "cell_type": "code",
   "execution_count": 53,
   "id": "8f94b59b-6cf7-45cd-86b0-ebcbe979dff1",
   "metadata": {},
   "outputs": [
    {
     "name": "stdout",
     "output_type": "stream",
     "text": [
      "Index(['Tenure Months', 'Churn Value', 'Churn Score', 'Gender_Male',\n",
      "       'Senior Citizen_Yes', 'Partner_Yes', 'Dependents_Yes',\n",
      "       'Multiple Lines_Yes', 'Internet Service_Yes', 'Online Security_Yes',\n",
      "       'Online Backup_Yes', 'Device Protection_Yes', 'Tech Support_Yes',\n",
      "       'Streaming TV_Yes', 'Streaming Movies_Yes', 'Paperless Billing_Yes',\n",
      "       'Churned'],\n",
      "      dtype='object')\n"
     ]
    }
   ],
   "source": [
    "print(telco_data.columns)"
   ]
  },
  {
   "cell_type": "code",
   "execution_count": 54,
   "id": "cef02e23-8028-4c2f-8f18-f52e4982e928",
   "metadata": {},
   "outputs": [
    {
     "data": {
      "text/html": [
       "<div>\n",
       "<style scoped>\n",
       "    .dataframe tbody tr th:only-of-type {\n",
       "        vertical-align: middle;\n",
       "    }\n",
       "\n",
       "    .dataframe tbody tr th {\n",
       "        vertical-align: top;\n",
       "    }\n",
       "\n",
       "    .dataframe thead th {\n",
       "        text-align: right;\n",
       "    }\n",
       "</style>\n",
       "<table border=\"1\" class=\"dataframe\">\n",
       "  <tbody>\n",
       "    <tr>\n",
       "      <th>model</th>\n",
       "      <td>lifelines.CoxPHFitter</td>\n",
       "    </tr>\n",
       "    <tr>\n",
       "      <th>duration col</th>\n",
       "      <td>'Tenure Months'</td>\n",
       "    </tr>\n",
       "    <tr>\n",
       "      <th>event col</th>\n",
       "      <td>'Churned'</td>\n",
       "    </tr>\n",
       "    <tr>\n",
       "      <th>baseline estimation</th>\n",
       "      <td>breslow</td>\n",
       "    </tr>\n",
       "    <tr>\n",
       "      <th>number of observations</th>\n",
       "      <td>6957</td>\n",
       "    </tr>\n",
       "    <tr>\n",
       "      <th>number of events observed</th>\n",
       "      <td>1835</td>\n",
       "    </tr>\n",
       "    <tr>\n",
       "      <th>partial log-likelihood</th>\n",
       "      <td>-12916.00</td>\n",
       "    </tr>\n",
       "    <tr>\n",
       "      <th>time fit was run</th>\n",
       "      <td>2025-01-03 20:37:56 UTC</td>\n",
       "    </tr>\n",
       "  </tbody>\n",
       "</table>\n",
       "</div><table border=\"1\" class=\"dataframe\">\n",
       "  <thead>\n",
       "    <tr style=\"text-align: right;\">\n",
       "      <th style=\"min-width: 12px;\"></th>\n",
       "      <th style=\"min-width: 12px;\">coef</th>\n",
       "      <th style=\"min-width: 12px;\">exp(coef)</th>\n",
       "      <th style=\"min-width: 12px;\">se(coef)</th>\n",
       "      <th style=\"min-width: 12px;\">coef lower 95%</th>\n",
       "      <th style=\"min-width: 12px;\">coef upper 95%</th>\n",
       "      <th style=\"min-width: 12px;\">exp(coef) lower 95%</th>\n",
       "      <th style=\"min-width: 12px;\">exp(coef) upper 95%</th>\n",
       "      <th style=\"min-width: 12px;\">cmp to</th>\n",
       "      <th style=\"min-width: 12px;\">z</th>\n",
       "      <th style=\"min-width: 12px;\">p</th>\n",
       "      <th style=\"min-width: 12px;\">-log2(p)</th>\n",
       "    </tr>\n",
       "  </thead>\n",
       "  <tbody>\n",
       "    <tr>\n",
       "      <th>Churn Score</th>\n",
       "      <td>1.52</td>\n",
       "      <td>4.55</td>\n",
       "      <td>0.04</td>\n",
       "      <td>1.44</td>\n",
       "      <td>1.59</td>\n",
       "      <td>4.24</td>\n",
       "      <td>4.90</td>\n",
       "      <td>0.00</td>\n",
       "      <td>40.98</td>\n",
       "      <td>&lt;0.005</td>\n",
       "      <td>inf</td>\n",
       "    </tr>\n",
       "    <tr>\n",
       "      <th>Gender_Male</th>\n",
       "      <td>-0.09</td>\n",
       "      <td>0.92</td>\n",
       "      <td>0.05</td>\n",
       "      <td>-0.18</td>\n",
       "      <td>0.01</td>\n",
       "      <td>0.84</td>\n",
       "      <td>1.01</td>\n",
       "      <td>0.00</td>\n",
       "      <td>-1.81</td>\n",
       "      <td>0.07</td>\n",
       "      <td>3.84</td>\n",
       "    </tr>\n",
       "    <tr>\n",
       "      <th>Senior Citizen_Yes</th>\n",
       "      <td>-0.07</td>\n",
       "      <td>0.93</td>\n",
       "      <td>0.05</td>\n",
       "      <td>-0.18</td>\n",
       "      <td>0.04</td>\n",
       "      <td>0.84</td>\n",
       "      <td>1.04</td>\n",
       "      <td>0.00</td>\n",
       "      <td>-1.31</td>\n",
       "      <td>0.19</td>\n",
       "      <td>2.40</td>\n",
       "    </tr>\n",
       "    <tr>\n",
       "      <th>Partner_Yes</th>\n",
       "      <td>-0.55</td>\n",
       "      <td>0.57</td>\n",
       "      <td>0.05</td>\n",
       "      <td>-0.65</td>\n",
       "      <td>-0.45</td>\n",
       "      <td>0.52</td>\n",
       "      <td>0.63</td>\n",
       "      <td>0.00</td>\n",
       "      <td>-10.83</td>\n",
       "      <td>&lt;0.005</td>\n",
       "      <td>88.41</td>\n",
       "    </tr>\n",
       "    <tr>\n",
       "      <th>Dependents_Yes</th>\n",
       "      <td>-0.61</td>\n",
       "      <td>0.54</td>\n",
       "      <td>0.10</td>\n",
       "      <td>-0.81</td>\n",
       "      <td>-0.40</td>\n",
       "      <td>0.44</td>\n",
       "      <td>0.67</td>\n",
       "      <td>0.00</td>\n",
       "      <td>-5.79</td>\n",
       "      <td>&lt;0.005</td>\n",
       "      <td>27.06</td>\n",
       "    </tr>\n",
       "    <tr>\n",
       "      <th>Multiple Lines_Yes</th>\n",
       "      <td>-0.45</td>\n",
       "      <td>0.64</td>\n",
       "      <td>0.05</td>\n",
       "      <td>-0.55</td>\n",
       "      <td>-0.35</td>\n",
       "      <td>0.58</td>\n",
       "      <td>0.70</td>\n",
       "      <td>0.00</td>\n",
       "      <td>-9.21</td>\n",
       "      <td>&lt;0.005</td>\n",
       "      <td>64.77</td>\n",
       "    </tr>\n",
       "    <tr>\n",
       "      <th>Internet Service_Yes</th>\n",
       "      <td>1.97</td>\n",
       "      <td>7.20</td>\n",
       "      <td>0.11</td>\n",
       "      <td>1.75</td>\n",
       "      <td>2.20</td>\n",
       "      <td>5.76</td>\n",
       "      <td>8.99</td>\n",
       "      <td>0.00</td>\n",
       "      <td>17.40</td>\n",
       "      <td>&lt;0.005</td>\n",
       "      <td>222.94</td>\n",
       "    </tr>\n",
       "    <tr>\n",
       "      <th>Online Security_Yes</th>\n",
       "      <td>-0.76</td>\n",
       "      <td>0.47</td>\n",
       "      <td>0.07</td>\n",
       "      <td>-0.89</td>\n",
       "      <td>-0.62</td>\n",
       "      <td>0.41</td>\n",
       "      <td>0.54</td>\n",
       "      <td>0.00</td>\n",
       "      <td>-11.22</td>\n",
       "      <td>&lt;0.005</td>\n",
       "      <td>94.58</td>\n",
       "    </tr>\n",
       "    <tr>\n",
       "      <th>Online Backup_Yes</th>\n",
       "      <td>-0.71</td>\n",
       "      <td>0.49</td>\n",
       "      <td>0.05</td>\n",
       "      <td>-0.82</td>\n",
       "      <td>-0.60</td>\n",
       "      <td>0.44</td>\n",
       "      <td>0.55</td>\n",
       "      <td>0.00</td>\n",
       "      <td>-12.99</td>\n",
       "      <td>&lt;0.005</td>\n",
       "      <td>125.75</td>\n",
       "    </tr>\n",
       "    <tr>\n",
       "      <th>Device Protection_Yes</th>\n",
       "      <td>-0.41</td>\n",
       "      <td>0.66</td>\n",
       "      <td>0.06</td>\n",
       "      <td>-0.52</td>\n",
       "      <td>-0.30</td>\n",
       "      <td>0.59</td>\n",
       "      <td>0.74</td>\n",
       "      <td>0.00</td>\n",
       "      <td>-7.34</td>\n",
       "      <td>&lt;0.005</td>\n",
       "      <td>42.06</td>\n",
       "    </tr>\n",
       "    <tr>\n",
       "      <th>Tech Support_Yes</th>\n",
       "      <td>-0.67</td>\n",
       "      <td>0.51</td>\n",
       "      <td>0.07</td>\n",
       "      <td>-0.80</td>\n",
       "      <td>-0.54</td>\n",
       "      <td>0.45</td>\n",
       "      <td>0.59</td>\n",
       "      <td>0.00</td>\n",
       "      <td>-9.95</td>\n",
       "      <td>&lt;0.005</td>\n",
       "      <td>75.00</td>\n",
       "    </tr>\n",
       "    <tr>\n",
       "      <th>Streaming TV_Yes</th>\n",
       "      <td>-0.27</td>\n",
       "      <td>0.76</td>\n",
       "      <td>0.05</td>\n",
       "      <td>-0.38</td>\n",
       "      <td>-0.17</td>\n",
       "      <td>0.68</td>\n",
       "      <td>0.85</td>\n",
       "      <td>0.00</td>\n",
       "      <td>-5.01</td>\n",
       "      <td>&lt;0.005</td>\n",
       "      <td>20.82</td>\n",
       "    </tr>\n",
       "    <tr>\n",
       "      <th>Streaming Movies_Yes</th>\n",
       "      <td>-0.27</td>\n",
       "      <td>0.76</td>\n",
       "      <td>0.06</td>\n",
       "      <td>-0.38</td>\n",
       "      <td>-0.16</td>\n",
       "      <td>0.69</td>\n",
       "      <td>0.85</td>\n",
       "      <td>0.00</td>\n",
       "      <td>-4.82</td>\n",
       "      <td>&lt;0.005</td>\n",
       "      <td>19.39</td>\n",
       "    </tr>\n",
       "    <tr>\n",
       "      <th>Paperless Billing_Yes</th>\n",
       "      <td>0.18</td>\n",
       "      <td>1.19</td>\n",
       "      <td>0.06</td>\n",
       "      <td>0.06</td>\n",
       "      <td>0.29</td>\n",
       "      <td>1.07</td>\n",
       "      <td>1.33</td>\n",
       "      <td>0.00</td>\n",
       "      <td>3.07</td>\n",
       "      <td>&lt;0.005</td>\n",
       "      <td>8.87</td>\n",
       "    </tr>\n",
       "  </tbody>\n",
       "</table><br><div>\n",
       "<style scoped>\n",
       "    .dataframe tbody tr th:only-of-type {\n",
       "        vertical-align: middle;\n",
       "    }\n",
       "\n",
       "    .dataframe tbody tr th {\n",
       "        vertical-align: top;\n",
       "    }\n",
       "\n",
       "    .dataframe thead th {\n",
       "        text-align: right;\n",
       "    }\n",
       "</style>\n",
       "<table border=\"1\" class=\"dataframe\">\n",
       "  <tbody>\n",
       "    <tr>\n",
       "      <th>Concordance</th>\n",
       "      <td>0.91</td>\n",
       "    </tr>\n",
       "    <tr>\n",
       "      <th>Partial AIC</th>\n",
       "      <td>25860.00</td>\n",
       "    </tr>\n",
       "    <tr>\n",
       "      <th>log-likelihood ratio test</th>\n",
       "      <td>4853.18 on 14 df</td>\n",
       "    </tr>\n",
       "    <tr>\n",
       "      <th>-log2(p) of ll-ratio test</th>\n",
       "      <td>inf</td>\n",
       "    </tr>\n",
       "  </tbody>\n",
       "</table>\n",
       "</div>"
      ],
      "text/latex": [
       "\\begin{tabular}{lrrrrrrrrrrr}\n",
       " & coef & exp(coef) & se(coef) & coef lower 95% & coef upper 95% & exp(coef) lower 95% & exp(coef) upper 95% & cmp to & z & p & -log2(p) \\\\\n",
       "covariate &  &  &  &  &  &  &  &  &  &  &  \\\\\n",
       "Churn Score & 1.52 & 4.55 & 0.04 & 1.44 & 1.59 & 4.24 & 4.90 & 0.00 & 40.98 & 0.00 & inf \\\\\n",
       "Gender_Male & -0.09 & 0.92 & 0.05 & -0.18 & 0.01 & 0.84 & 1.01 & 0.00 & -1.81 & 0.07 & 3.84 \\\\\n",
       "Senior Citizen_Yes & -0.07 & 0.93 & 0.05 & -0.18 & 0.04 & 0.84 & 1.04 & 0.00 & -1.31 & 0.19 & 2.40 \\\\\n",
       "Partner_Yes & -0.55 & 0.57 & 0.05 & -0.65 & -0.45 & 0.52 & 0.63 & 0.00 & -10.83 & 0.00 & 88.41 \\\\\n",
       "Dependents_Yes & -0.61 & 0.54 & 0.10 & -0.81 & -0.40 & 0.44 & 0.67 & 0.00 & -5.79 & 0.00 & 27.06 \\\\\n",
       "Multiple Lines_Yes & -0.45 & 0.64 & 0.05 & -0.55 & -0.35 & 0.58 & 0.70 & 0.00 & -9.21 & 0.00 & 64.77 \\\\\n",
       "Internet Service_Yes & 1.97 & 7.20 & 0.11 & 1.75 & 2.20 & 5.76 & 8.99 & 0.00 & 17.40 & 0.00 & 222.94 \\\\\n",
       "Online Security_Yes & -0.76 & 0.47 & 0.07 & -0.89 & -0.62 & 0.41 & 0.54 & 0.00 & -11.22 & 0.00 & 94.58 \\\\\n",
       "Online Backup_Yes & -0.71 & 0.49 & 0.05 & -0.82 & -0.60 & 0.44 & 0.55 & 0.00 & -12.99 & 0.00 & 125.75 \\\\\n",
       "Device Protection_Yes & -0.41 & 0.66 & 0.06 & -0.52 & -0.30 & 0.59 & 0.74 & 0.00 & -7.34 & 0.00 & 42.06 \\\\\n",
       "Tech Support_Yes & -0.67 & 0.51 & 0.07 & -0.80 & -0.54 & 0.45 & 0.59 & 0.00 & -9.95 & 0.00 & 75.00 \\\\\n",
       "Streaming TV_Yes & -0.27 & 0.76 & 0.05 & -0.38 & -0.17 & 0.68 & 0.85 & 0.00 & -5.01 & 0.00 & 20.82 \\\\\n",
       "Streaming Movies_Yes & -0.27 & 0.76 & 0.06 & -0.38 & -0.16 & 0.69 & 0.85 & 0.00 & -4.82 & 0.00 & 19.39 \\\\\n",
       "Paperless Billing_Yes & 0.18 & 1.19 & 0.06 & 0.06 & 0.29 & 1.07 & 1.33 & 0.00 & 3.07 & 0.00 & 8.87 \\\\\n",
       "\\end{tabular}\n"
      ],
      "text/plain": [
       "<lifelines.CoxPHFitter: fitted with 6957 total observations, 5122 right-censored observations>\n",
       "             duration col = 'Tenure Months'\n",
       "                event col = 'Churned'\n",
       "      baseline estimation = breslow\n",
       "   number of observations = 6957\n",
       "number of events observed = 1835\n",
       "   partial log-likelihood = -12916.00\n",
       "         time fit was run = 2025-01-03 20:37:56 UTC\n",
       "\n",
       "---\n",
       "                       coef exp(coef)  se(coef)  coef lower 95%  coef upper 95% exp(coef) lower 95% exp(coef) upper 95%\n",
       "covariate                                                                                                              \n",
       "Churn Score            1.52      4.55      0.04            1.44            1.59                4.24                4.90\n",
       "Gender_Male           -0.09      0.92      0.05           -0.18            0.01                0.84                1.01\n",
       "Senior Citizen_Yes    -0.07      0.93      0.05           -0.18            0.04                0.84                1.04\n",
       "Partner_Yes           -0.55      0.57      0.05           -0.65           -0.45                0.52                0.63\n",
       "Dependents_Yes        -0.61      0.54      0.10           -0.81           -0.40                0.44                0.67\n",
       "Multiple Lines_Yes    -0.45      0.64      0.05           -0.55           -0.35                0.58                0.70\n",
       "Internet Service_Yes   1.97      7.20      0.11            1.75            2.20                5.76                8.99\n",
       "Online Security_Yes   -0.76      0.47      0.07           -0.89           -0.62                0.41                0.54\n",
       "Online Backup_Yes     -0.71      0.49      0.05           -0.82           -0.60                0.44                0.55\n",
       "Device Protection_Yes -0.41      0.66      0.06           -0.52           -0.30                0.59                0.74\n",
       "Tech Support_Yes      -0.67      0.51      0.07           -0.80           -0.54                0.45                0.59\n",
       "Streaming TV_Yes      -0.27      0.76      0.05           -0.38           -0.17                0.68                0.85\n",
       "Streaming Movies_Yes  -0.27      0.76      0.06           -0.38           -0.16                0.69                0.85\n",
       "Paperless Billing_Yes  0.18      1.19      0.06            0.06            0.29                1.07                1.33\n",
       "\n",
       "                       cmp to      z      p  -log2(p)\n",
       "covariate                                            \n",
       "Churn Score              0.00  40.98 <0.005       inf\n",
       "Gender_Male              0.00  -1.81   0.07      3.84\n",
       "Senior Citizen_Yes       0.00  -1.31   0.19      2.40\n",
       "Partner_Yes              0.00 -10.83 <0.005     88.41\n",
       "Dependents_Yes           0.00  -5.79 <0.005     27.06\n",
       "Multiple Lines_Yes       0.00  -9.21 <0.005     64.77\n",
       "Internet Service_Yes     0.00  17.40 <0.005    222.94\n",
       "Online Security_Yes      0.00 -11.22 <0.005     94.58\n",
       "Online Backup_Yes        0.00 -12.99 <0.005    125.75\n",
       "Device Protection_Yes    0.00  -7.34 <0.005     42.06\n",
       "Tech Support_Yes         0.00  -9.95 <0.005     75.00\n",
       "Streaming TV_Yes         0.00  -5.01 <0.005     20.82\n",
       "Streaming Movies_Yes     0.00  -4.82 <0.005     19.39\n",
       "Paperless Billing_Yes    0.00   3.07 <0.005      8.87\n",
       "---\n",
       "Concordance = 0.91\n",
       "Partial AIC = 25860.00\n",
       "log-likelihood ratio test = 4853.18 on 14 df\n",
       "-log2(p) of ll-ratio test = inf"
      ]
     },
     "metadata": {},
     "output_type": "display_data"
    }
   ],
   "source": [
    "#from lifelines import CoxPHFitter\n",
    "duration_col = 'Tenure Months'  # Column representing the duration (e.g., how long the customer stayed)\n",
    "event_col = 'Churned'           # Column indicating if the customer churned (binary: 1 for churn, 0 for no churn)\n",
    "\n",
    "covariates = ['Churn Score', 'Gender_Male',\n",
    "       'Senior Citizen_Yes', 'Partner_Yes', 'Dependents_Yes',\n",
    "       'Multiple Lines_Yes', 'Internet Service_Yes', 'Online Security_Yes',\n",
    "       'Online Backup_Yes', 'Device Protection_Yes', 'Tech Support_Yes',\n",
    "       'Streaming TV_Yes', 'Streaming Movies_Yes', 'Paperless Billing_Yes']  # Example covariates\n",
    "#cox_model = CoxPHFitter()\n",
    "# Fit the Cox model using the selected covariates, duration, and event columns\n",
    "cox_model.fit(telco_data[covariates + [duration_col, event_col]], duration_col=duration_col, event_col=event_col)\n",
    "\n",
    "# Show the summary of the model\n",
    "cox_model.print_summary()"
   ]
  },
  {
   "cell_type": "code",
   "execution_count": 55,
   "id": "758414a2-70db-4336-9d1a-b5d40c1f438f",
   "metadata": {},
   "outputs": [
    {
     "name": "stdout",
     "output_type": "stream",
     "text": [
      "  customer_segment  survival_probability\n",
      "0         Low Risk              1.000000\n",
      "1         Low Risk              0.821527\n",
      "2         Low Risk              0.749920\n",
      "3         Low Risk              0.691751\n",
      "4         Low Risk              0.641007\n"
     ]
    }
   ],
   "source": [
    "# Choose a specific time point (e.g., the median tenure)\n",
    "time_point = telco_data['Tenure Months'].median()  # You can choose another time point as needed\n",
    "\n",
    "# Predict the survival function for each customer and extract the survival probability at the chosen time point\n",
    "survival_probabilities = cox_model.predict_survival_function(telco_data[covariates])\n",
    "\n",
    "# Extract the survival probability at the specified time point\n",
    "telco_data['survival_probability'] = survival_probabilities.apply(lambda x: x.loc[time_point] if time_point in x.index else None, axis=1)\n",
    "\n",
    "# Assign segments based on survival probability\n",
    "# For example, customers with a low probability of survival (high churn risk) will be in the high-risk group\n",
    "telco_data['customer_segment'] = telco_data['survival_probability'].apply(lambda x: 'High Risk' if x < 0.5 else 'Low Risk')\n",
    "\n",
    "# Check the segmentation\n",
    "print(telco_data[['customer_segment', 'survival_probability']].head())\n"
   ]
  },
  {
   "cell_type": "code",
   "execution_count": 56,
   "id": "9956c1ce-b3bd-48e1-b019-d9df26f952a6",
   "metadata": {},
   "outputs": [
    {
     "name": "stdout",
     "output_type": "stream",
     "text": [
      "0        2\n",
      "1        2\n",
      "2        8\n",
      "3       28\n",
      "4       49\n",
      "        ..\n",
      "7038    72\n",
      "7039    24\n",
      "7040    72\n",
      "7041    11\n",
      "7042    66\n",
      "Name: Tenure Months, Length: 6957, dtype: int64\n"
     ]
    }
   ],
   "source": [
    "print(telco_data['Tenure Months'])"
   ]
  },
  {
   "cell_type": "code",
   "execution_count": 59,
   "id": "c2cef794-59b1-4c2e-bc4b-1e655caabb5b",
   "metadata": {},
   "outputs": [
    {
     "data": {
      "text/plain": [
       "['cox_model.pkl']"
      ]
     },
     "execution_count": 59,
     "metadata": {},
     "output_type": "execute_result"
    }
   ],
   "source": [
    "import joblib\n",
    "\n",
    "# Save the model to a file\n",
    "joblib.dump(cox_model, 'cox_model.pkl')\n"
   ]
  },
  {
   "cell_type": "code",
   "execution_count": 58,
   "id": "315aa106-82b0-4b60-a574-11a60d465444",
   "metadata": {},
   "outputs": [
    {
     "name": "stdout",
     "output_type": "stream",
     "text": [
      "['Tenure Months' 'Churn Score' 'Gender_Male' 'Senior Citizen_Yes'\n",
      " 'Partner_Yes' 'Dependents_Yes' 'Multiple Lines_Yes'\n",
      " 'Internet Service_Yes' 'Online Security_Yes' 'Online Backup_Yes'\n",
      " 'Device Protection_Yes' 'Tech Support_Yes' 'Streaming TV_Yes'\n",
      " 'Streaming Movies_Yes' 'Paperless Billing_Yes']\n"
     ]
    }
   ],
   "source": [
    "print(pca.feature_names_in_)"
   ]
  },
  {
   "cell_type": "code",
   "execution_count": null,
   "id": "4d49ca48-76a9-4ec2-b4ae-685e6a2fcdf0",
   "metadata": {},
   "outputs": [],
   "source": []
  }
 ],
 "metadata": {
  "kernelspec": {
   "display_name": "Python 3 (ipykernel)",
   "language": "python",
   "name": "python3"
  },
  "language_info": {
   "codemirror_mode": {
    "name": "ipython",
    "version": 3
   },
   "file_extension": ".py",
   "mimetype": "text/x-python",
   "name": "python",
   "nbconvert_exporter": "python",
   "pygments_lexer": "ipython3",
   "version": "3.12.7"
  }
 },
 "nbformat": 4,
 "nbformat_minor": 5
}
